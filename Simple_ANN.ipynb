{
  "nbformat": 4,
  "nbformat_minor": 0,
  "metadata": {
    "colab": {
      "provenance": []
    },
    "kernelspec": {
      "name": "python3",
      "display_name": "Python 3"
    },
    "language_info": {
      "name": "python"
    }
  },
  "cells": [
    {
      "cell_type": "markdown",
      "source": [
        "### **Configuration and Compatibility**"
      ],
      "metadata": {
        "id": "Ljtvc4pvnd8c"
      }
    },
    {
      "cell_type": "code",
      "execution_count": 17,
      "metadata": {
        "colab": {
          "base_uri": "https://localhost:8080/"
        },
        "id": "gh2MnZruhPXa",
        "outputId": "f0415028-6c64-4787-d43f-5a4a6b1cadaa"
      },
      "outputs": [
        {
          "output_type": "stream",
          "name": "stderr",
          "text": [
            "/usr/local/lib/python3.9/dist-packages/tensorflow/python/client/session.py:1769: UserWarning: An interactive session is already active. This can cause out-of-memory errors in some cases. You must explicitly call `InteractiveSession.close()` to release resources held by the other session(s).\n",
            "  warnings.warn('An interactive session is already active. This can '\n"
          ]
        }
      ],
      "source": [
        "from tensorflow.compat.v1 import ConfigProto\n",
        "from tensorflow.compat.v1 import InteractiveSession\n",
        "\n",
        "config = ConfigProto()\n",
        "config.gpu_options.per_process_gpu_memory_fraction = 0.5\n",
        "config.gpu_options.allow_growth = True\n",
        "session = InteractiveSession(config=config)\n",
        "\n"
      ]
    },
    {
      "cell_type": "code",
      "source": [
        "import tensorflow as tf\n",
        "from tensorflow.keras.preprocessing.image import ImageDataGenerator\n",
        "\n"
      ],
      "metadata": {
        "id": "5qY5blZZi2BT"
      },
      "execution_count": 18,
      "outputs": []
    },
    {
      "cell_type": "code",
      "source": [
        "tf.__version__"
      ],
      "metadata": {
        "colab": {
          "base_uri": "https://localhost:8080/",
          "height": 35
        },
        "id": "73aEvzImjNHP",
        "outputId": "cd61db51-50fa-4526-98c9-49163c989764"
      },
      "execution_count": 19,
      "outputs": [
        {
          "output_type": "execute_result",
          "data": {
            "text/plain": [
              "'2.12.0'"
            ],
            "application/vnd.google.colaboratory.intrinsic+json": {
              "type": "string"
            }
          },
          "metadata": {},
          "execution_count": 19
        }
      ]
    },
    {
      "cell_type": "code",
      "source": [
        "'https://raw.githubusercontent.com/krishnaik06/Complete-Deep-Learning/master/ANN/Churn_Modelling.csv'\n"
      ],
      "metadata": {
        "colab": {
          "base_uri": "https://localhost:8080/",
          "height": 35
        },
        "id": "VzaYGflJkL6y",
        "outputId": "f5c1ede8-c392-4c90-b815-432392ee6843"
      },
      "execution_count": 20,
      "outputs": [
        {
          "output_type": "execute_result",
          "data": {
            "text/plain": [
              "'https://raw.githubusercontent.com/krishnaik06/Complete-Deep-Learning/master/ANN/Churn_Modelling.csv'"
            ],
            "application/vnd.google.colaboratory.intrinsic+json": {
              "type": "string"
            }
          },
          "metadata": {},
          "execution_count": 20
        }
      ]
    },
    {
      "cell_type": "code",
      "source": [
        "from google.colab import files\n",
        "uploaded = files.upload()"
      ],
      "metadata": {
        "colab": {
          "base_uri": "https://localhost:8080/",
          "height": 73
        },
        "id": "nu5SmILLlrwm",
        "outputId": "8967c8ae-064b-4676-fcf6-00ae5aa3ad4b"
      },
      "execution_count": 21,
      "outputs": [
        {
          "output_type": "display_data",
          "data": {
            "text/plain": [
              "<IPython.core.display.HTML object>"
            ],
            "text/html": [
              "\n",
              "     <input type=\"file\" id=\"files-4d4f4e49-6f02-4337-bdac-33662e23bbe3\" name=\"files[]\" multiple disabled\n",
              "        style=\"border:none\" />\n",
              "     <output id=\"result-4d4f4e49-6f02-4337-bdac-33662e23bbe3\">\n",
              "      Upload widget is only available when the cell has been executed in the\n",
              "      current browser session. Please rerun this cell to enable.\n",
              "      </output>\n",
              "      <script>// Copyright 2017 Google LLC\n",
              "//\n",
              "// Licensed under the Apache License, Version 2.0 (the \"License\");\n",
              "// you may not use this file except in compliance with the License.\n",
              "// You may obtain a copy of the License at\n",
              "//\n",
              "//      http://www.apache.org/licenses/LICENSE-2.0\n",
              "//\n",
              "// Unless required by applicable law or agreed to in writing, software\n",
              "// distributed under the License is distributed on an \"AS IS\" BASIS,\n",
              "// WITHOUT WARRANTIES OR CONDITIONS OF ANY KIND, either express or implied.\n",
              "// See the License for the specific language governing permissions and\n",
              "// limitations under the License.\n",
              "\n",
              "/**\n",
              " * @fileoverview Helpers for google.colab Python module.\n",
              " */\n",
              "(function(scope) {\n",
              "function span(text, styleAttributes = {}) {\n",
              "  const element = document.createElement('span');\n",
              "  element.textContent = text;\n",
              "  for (const key of Object.keys(styleAttributes)) {\n",
              "    element.style[key] = styleAttributes[key];\n",
              "  }\n",
              "  return element;\n",
              "}\n",
              "\n",
              "// Max number of bytes which will be uploaded at a time.\n",
              "const MAX_PAYLOAD_SIZE = 100 * 1024;\n",
              "\n",
              "function _uploadFiles(inputId, outputId) {\n",
              "  const steps = uploadFilesStep(inputId, outputId);\n",
              "  const outputElement = document.getElementById(outputId);\n",
              "  // Cache steps on the outputElement to make it available for the next call\n",
              "  // to uploadFilesContinue from Python.\n",
              "  outputElement.steps = steps;\n",
              "\n",
              "  return _uploadFilesContinue(outputId);\n",
              "}\n",
              "\n",
              "// This is roughly an async generator (not supported in the browser yet),\n",
              "// where there are multiple asynchronous steps and the Python side is going\n",
              "// to poll for completion of each step.\n",
              "// This uses a Promise to block the python side on completion of each step,\n",
              "// then passes the result of the previous step as the input to the next step.\n",
              "function _uploadFilesContinue(outputId) {\n",
              "  const outputElement = document.getElementById(outputId);\n",
              "  const steps = outputElement.steps;\n",
              "\n",
              "  const next = steps.next(outputElement.lastPromiseValue);\n",
              "  return Promise.resolve(next.value.promise).then((value) => {\n",
              "    // Cache the last promise value to make it available to the next\n",
              "    // step of the generator.\n",
              "    outputElement.lastPromiseValue = value;\n",
              "    return next.value.response;\n",
              "  });\n",
              "}\n",
              "\n",
              "/**\n",
              " * Generator function which is called between each async step of the upload\n",
              " * process.\n",
              " * @param {string} inputId Element ID of the input file picker element.\n",
              " * @param {string} outputId Element ID of the output display.\n",
              " * @return {!Iterable<!Object>} Iterable of next steps.\n",
              " */\n",
              "function* uploadFilesStep(inputId, outputId) {\n",
              "  const inputElement = document.getElementById(inputId);\n",
              "  inputElement.disabled = false;\n",
              "\n",
              "  const outputElement = document.getElementById(outputId);\n",
              "  outputElement.innerHTML = '';\n",
              "\n",
              "  const pickedPromise = new Promise((resolve) => {\n",
              "    inputElement.addEventListener('change', (e) => {\n",
              "      resolve(e.target.files);\n",
              "    });\n",
              "  });\n",
              "\n",
              "  const cancel = document.createElement('button');\n",
              "  inputElement.parentElement.appendChild(cancel);\n",
              "  cancel.textContent = 'Cancel upload';\n",
              "  const cancelPromise = new Promise((resolve) => {\n",
              "    cancel.onclick = () => {\n",
              "      resolve(null);\n",
              "    };\n",
              "  });\n",
              "\n",
              "  // Wait for the user to pick the files.\n",
              "  const files = yield {\n",
              "    promise: Promise.race([pickedPromise, cancelPromise]),\n",
              "    response: {\n",
              "      action: 'starting',\n",
              "    }\n",
              "  };\n",
              "\n",
              "  cancel.remove();\n",
              "\n",
              "  // Disable the input element since further picks are not allowed.\n",
              "  inputElement.disabled = true;\n",
              "\n",
              "  if (!files) {\n",
              "    return {\n",
              "      response: {\n",
              "        action: 'complete',\n",
              "      }\n",
              "    };\n",
              "  }\n",
              "\n",
              "  for (const file of files) {\n",
              "    const li = document.createElement('li');\n",
              "    li.append(span(file.name, {fontWeight: 'bold'}));\n",
              "    li.append(span(\n",
              "        `(${file.type || 'n/a'}) - ${file.size} bytes, ` +\n",
              "        `last modified: ${\n",
              "            file.lastModifiedDate ? file.lastModifiedDate.toLocaleDateString() :\n",
              "                                    'n/a'} - `));\n",
              "    const percent = span('0% done');\n",
              "    li.appendChild(percent);\n",
              "\n",
              "    outputElement.appendChild(li);\n",
              "\n",
              "    const fileDataPromise = new Promise((resolve) => {\n",
              "      const reader = new FileReader();\n",
              "      reader.onload = (e) => {\n",
              "        resolve(e.target.result);\n",
              "      };\n",
              "      reader.readAsArrayBuffer(file);\n",
              "    });\n",
              "    // Wait for the data to be ready.\n",
              "    let fileData = yield {\n",
              "      promise: fileDataPromise,\n",
              "      response: {\n",
              "        action: 'continue',\n",
              "      }\n",
              "    };\n",
              "\n",
              "    // Use a chunked sending to avoid message size limits. See b/62115660.\n",
              "    let position = 0;\n",
              "    do {\n",
              "      const length = Math.min(fileData.byteLength - position, MAX_PAYLOAD_SIZE);\n",
              "      const chunk = new Uint8Array(fileData, position, length);\n",
              "      position += length;\n",
              "\n",
              "      const base64 = btoa(String.fromCharCode.apply(null, chunk));\n",
              "      yield {\n",
              "        response: {\n",
              "          action: 'append',\n",
              "          file: file.name,\n",
              "          data: base64,\n",
              "        },\n",
              "      };\n",
              "\n",
              "      let percentDone = fileData.byteLength === 0 ?\n",
              "          100 :\n",
              "          Math.round((position / fileData.byteLength) * 100);\n",
              "      percent.textContent = `${percentDone}% done`;\n",
              "\n",
              "    } while (position < fileData.byteLength);\n",
              "  }\n",
              "\n",
              "  // All done.\n",
              "  yield {\n",
              "    response: {\n",
              "      action: 'complete',\n",
              "    }\n",
              "  };\n",
              "}\n",
              "\n",
              "scope.google = scope.google || {};\n",
              "scope.google.colab = scope.google.colab || {};\n",
              "scope.google.colab._files = {\n",
              "  _uploadFiles,\n",
              "  _uploadFilesContinue,\n",
              "};\n",
              "})(self);\n",
              "</script> "
            ]
          },
          "metadata": {}
        },
        {
          "output_type": "stream",
          "name": "stdout",
          "text": [
            "Saving Churn_Modelling.csv to Churn_Modelling (1).csv\n"
          ]
        }
      ]
    },
    {
      "cell_type": "code",
      "source": [
        "import pandas as pd\n",
        "import numpy as np\n",
        "import matplotlib.pyplot as plt\n",
        "\n",
        "df = pd.read_csv('Churn_Modelling.csv')\n"
      ],
      "metadata": {
        "id": "1EeG6Pebk9yQ"
      },
      "execution_count": 22,
      "outputs": []
    },
    {
      "cell_type": "markdown",
      "source": [
        "### **Splitting the Data**"
      ],
      "metadata": {
        "id": "y6UbIW4mnRDS"
      }
    },
    {
      "cell_type": "code",
      "source": [
        "x = df.iloc[:, 3:13]\n",
        "y = df.iloc[:, 13]\n",
        "\n",
        "geography = pd.get_dummies(x[\"Geography\"], drop_first=True)\n",
        "gender = pd.get_dummies(x['Gender'], drop_first=True)\n"
      ],
      "metadata": {
        "id": "xTUPbJjqlHxO"
      },
      "execution_count": 23,
      "outputs": []
    },
    {
      "cell_type": "code",
      "source": [
        "x = pd.concat([x, geography, gender], axis=1)\n",
        "\n",
        "x = x.drop(['Geography', 'Gender'], axis=1)\n"
      ],
      "metadata": {
        "id": "Kg6Ilo2yljrG"
      },
      "execution_count": 24,
      "outputs": []
    },
    {
      "cell_type": "code",
      "source": [
        "from sklearn.model_selection import train_test_split\n",
        "x_train, x_test, y_train, y_test = train_test_split(x, y, test_size=0.2, random_state=42)\n",
        "\n"
      ],
      "metadata": {
        "id": "veYP_UWGmR18"
      },
      "execution_count": 25,
      "outputs": []
    },
    {
      "cell_type": "markdown",
      "source": [
        "### **Feature Scaling**"
      ],
      "metadata": {
        "id": "vfLR0iAinMo7"
      }
    },
    {
      "cell_type": "code",
      "source": [
        "from sklearn.preprocessing import StandardScaler\n",
        "sc = StandardScaler()\n",
        "x_train = sc.fit_transform(x_train)\n",
        "x_test = sc.transform(x_test)\n",
        "\n"
      ],
      "metadata": {
        "id": "lvmvgk31mlG8"
      },
      "execution_count": 26,
      "outputs": []
    },
    {
      "cell_type": "markdown",
      "source": [
        "## **Artificial Neural Network**"
      ],
      "metadata": {
        "id": "zeW9fusEnwdp"
      }
    },
    {
      "cell_type": "code",
      "source": [
        "pip install --upgrade ipython"
      ],
      "metadata": {
        "colab": {
          "base_uri": "https://localhost:8080/"
        },
        "id": "2Ivua_tBvBa0",
        "outputId": "69f12eac-aa0b-43fa-a6d7-a4746680dfad"
      },
      "execution_count": 27,
      "outputs": [
        {
          "output_type": "stream",
          "name": "stdout",
          "text": [
            "Looking in indexes: https://pypi.org/simple, https://us-python.pkg.dev/colab-wheels/public/simple/\n",
            "Requirement already satisfied: ipython in /usr/local/lib/python3.9/dist-packages (8.12.0)\n",
            "Requirement already satisfied: backcall in /usr/local/lib/python3.9/dist-packages (from ipython) (0.2.0)\n",
            "Requirement already satisfied: pickleshare in /usr/local/lib/python3.9/dist-packages (from ipython) (0.7.5)\n",
            "Requirement already satisfied: jedi>=0.16 in /usr/local/lib/python3.9/dist-packages (from ipython) (0.18.2)\n",
            "Requirement already satisfied: stack-data in /usr/local/lib/python3.9/dist-packages (from ipython) (0.6.2)\n",
            "Requirement already satisfied: prompt-toolkit!=3.0.37,<3.1.0,>=3.0.30 in /usr/local/lib/python3.9/dist-packages (from ipython) (3.0.38)\n",
            "Requirement already satisfied: pygments>=2.4.0 in /usr/local/lib/python3.9/dist-packages (from ipython) (2.14.0)\n",
            "Requirement already satisfied: typing-extensions in /usr/local/lib/python3.9/dist-packages (from ipython) (4.5.0)\n",
            "Requirement already satisfied: pexpect>4.3 in /usr/local/lib/python3.9/dist-packages (from ipython) (4.8.0)\n",
            "Requirement already satisfied: traitlets>=5 in /usr/local/lib/python3.9/dist-packages (from ipython) (5.7.1)\n",
            "Requirement already satisfied: matplotlib-inline in /usr/local/lib/python3.9/dist-packages (from ipython) (0.1.6)\n",
            "Requirement already satisfied: decorator in /usr/local/lib/python3.9/dist-packages (from ipython) (4.4.2)\n",
            "Requirement already satisfied: parso<0.9.0,>=0.8.0 in /usr/local/lib/python3.9/dist-packages (from jedi>=0.16->ipython) (0.8.3)\n",
            "Requirement already satisfied: ptyprocess>=0.5 in /usr/local/lib/python3.9/dist-packages (from pexpect>4.3->ipython) (0.7.0)\n",
            "Requirement already satisfied: wcwidth in /usr/local/lib/python3.9/dist-packages (from prompt-toolkit!=3.0.37,<3.1.0,>=3.0.30->ipython) (0.2.6)\n",
            "Requirement already satisfied: executing>=1.2.0 in /usr/local/lib/python3.9/dist-packages (from stack-data->ipython) (1.2.0)\n",
            "Requirement already satisfied: pure-eval in /usr/local/lib/python3.9/dist-packages (from stack-data->ipython) (0.2.2)\n",
            "Requirement already satisfied: asttokens>=2.1.0 in /usr/local/lib/python3.9/dist-packages (from stack-data->ipython) (2.2.1)\n",
            "Requirement already satisfied: six in /usr/local/lib/python3.9/dist-packages (from asttokens>=2.1.0->stack-data->ipython) (1.16.0)\n"
          ]
        }
      ]
    },
    {
      "cell_type": "code",
      "source": [
        "from IPython.core import history\n",
        "from keras.engine.sequential import Sequential\n",
        "import keras \n",
        "from keras.models import Sequential\n",
        "\n",
        "from keras.layers import Dense\n",
        "from keras.layers import LeakyReLU, PReLU, ELU\n",
        "from keras.layers import Dropout\n",
        "\n",
        "# Inititializaing the ANN\n",
        "classifier = Sequential()\n",
        "\n",
        "# Adding the input and the hidden layer\n",
        "classifier.add(Dense(units=6, kernel_initializer='he_uniform', activation='relu', input_dim=11))\n",
        "\n",
        "# Adding the second hidden layer\n",
        "classifier.add(Dense(units=6, kernel_initializer='he_uniform', activation='relu'))\n",
        "\n",
        "# Adding the output layer\n",
        "classifier.add(Dense(units=1, kernel_initializer='he_uniform', activation='sigmoid'))\n",
        "\n",
        "# Compiling the ANN\n",
        "classifier.compile(optimizer='Adamax', loss='binary_crossentropy', metrics=['accuracy'])\n",
        "\n",
        "# Fitting the ANN to the Training Set\n",
        "model_history = classifier.fit(x_train, y_train, validation_split=0.2, batch_size=20, epochs=100)\n",
        "\n",
        "\n",
        "print(model_history.history.keys())\n",
        "\n",
        "# Summarize history for accuracy\n",
        "plt.plot(model_history.history['accuracy'])\n",
        "plt.plot(model_history.history['val_accuracy'])\n",
        "plt.title('model accuracy')\n",
        "plt.ylabel('accuracy')\n",
        "plt.xlabel('epoch')\n",
        "plt.legend(['train', 'test'], loc='upper left')\n",
        "plt.show()\n"
      ],
      "metadata": {
        "colab": {
          "base_uri": "https://localhost:8080/",
          "height": 1000
        },
        "id": "Q5sbz-VOnLMB",
        "outputId": "cb3bd5d2-8fe0-4e5e-8e29-141327ca543d"
      },
      "execution_count": 32,
      "outputs": [
        {
          "output_type": "stream",
          "name": "stdout",
          "text": [
            "Epoch 1/100\n",
            "320/320 [==============================] - 2s 3ms/step - loss: 0.8901 - accuracy: 0.3941 - val_loss: 0.6604 - val_accuracy: 0.6144\n",
            "Epoch 2/100\n",
            "320/320 [==============================] - 1s 3ms/step - loss: 0.5907 - accuracy: 0.7175 - val_loss: 0.5508 - val_accuracy: 0.7844\n",
            "Epoch 3/100\n",
            "320/320 [==============================] - 1s 3ms/step - loss: 0.5285 - accuracy: 0.7894 - val_loss: 0.5132 - val_accuracy: 0.7975\n",
            "Epoch 4/100\n",
            "320/320 [==============================] - 1s 2ms/step - loss: 0.5003 - accuracy: 0.7936 - val_loss: 0.4889 - val_accuracy: 0.7987\n",
            "Epoch 5/100\n",
            "320/320 [==============================] - 1s 2ms/step - loss: 0.4811 - accuracy: 0.7942 - val_loss: 0.4699 - val_accuracy: 0.8019\n",
            "Epoch 6/100\n",
            "320/320 [==============================] - 1s 2ms/step - loss: 0.4666 - accuracy: 0.7972 - val_loss: 0.4559 - val_accuracy: 0.8037\n",
            "Epoch 7/100\n",
            "320/320 [==============================] - 1s 2ms/step - loss: 0.4553 - accuracy: 0.7967 - val_loss: 0.4449 - val_accuracy: 0.8075\n",
            "Epoch 8/100\n",
            "320/320 [==============================] - 1s 2ms/step - loss: 0.4460 - accuracy: 0.7998 - val_loss: 0.4358 - val_accuracy: 0.8119\n",
            "Epoch 9/100\n",
            "320/320 [==============================] - 1s 2ms/step - loss: 0.4381 - accuracy: 0.8022 - val_loss: 0.4279 - val_accuracy: 0.8156\n",
            "Epoch 10/100\n",
            "320/320 [==============================] - 1s 2ms/step - loss: 0.4310 - accuracy: 0.8045 - val_loss: 0.4216 - val_accuracy: 0.8163\n",
            "Epoch 11/100\n",
            "320/320 [==============================] - 1s 2ms/step - loss: 0.4246 - accuracy: 0.8078 - val_loss: 0.4155 - val_accuracy: 0.8225\n",
            "Epoch 12/100\n",
            "320/320 [==============================] - 1s 2ms/step - loss: 0.4190 - accuracy: 0.8150 - val_loss: 0.4101 - val_accuracy: 0.8269\n",
            "Epoch 13/100\n",
            "320/320 [==============================] - 1s 2ms/step - loss: 0.4138 - accuracy: 0.8186 - val_loss: 0.4062 - val_accuracy: 0.8281\n",
            "Epoch 14/100\n",
            "320/320 [==============================] - 1s 2ms/step - loss: 0.4090 - accuracy: 0.8225 - val_loss: 0.4022 - val_accuracy: 0.8300\n",
            "Epoch 15/100\n",
            "320/320 [==============================] - 1s 2ms/step - loss: 0.4045 - accuracy: 0.8258 - val_loss: 0.3979 - val_accuracy: 0.8331\n",
            "Epoch 16/100\n",
            "320/320 [==============================] - 1s 2ms/step - loss: 0.4002 - accuracy: 0.8278 - val_loss: 0.3947 - val_accuracy: 0.8381\n",
            "Epoch 17/100\n",
            "320/320 [==============================] - 1s 2ms/step - loss: 0.3963 - accuracy: 0.8314 - val_loss: 0.3919 - val_accuracy: 0.8413\n",
            "Epoch 18/100\n",
            "320/320 [==============================] - 1s 3ms/step - loss: 0.3925 - accuracy: 0.8328 - val_loss: 0.3886 - val_accuracy: 0.8425\n",
            "Epoch 19/100\n",
            "320/320 [==============================] - 1s 3ms/step - loss: 0.3888 - accuracy: 0.8363 - val_loss: 0.3856 - val_accuracy: 0.8431\n",
            "Epoch 20/100\n",
            "320/320 [==============================] - 1s 3ms/step - loss: 0.3856 - accuracy: 0.8380 - val_loss: 0.3835 - val_accuracy: 0.8425\n",
            "Epoch 21/100\n",
            "320/320 [==============================] - 1s 2ms/step - loss: 0.3825 - accuracy: 0.8394 - val_loss: 0.3812 - val_accuracy: 0.8406\n",
            "Epoch 22/100\n",
            "320/320 [==============================] - 1s 2ms/step - loss: 0.3795 - accuracy: 0.8394 - val_loss: 0.3792 - val_accuracy: 0.8425\n",
            "Epoch 23/100\n",
            "320/320 [==============================] - 1s 2ms/step - loss: 0.3768 - accuracy: 0.8416 - val_loss: 0.3770 - val_accuracy: 0.8400\n",
            "Epoch 24/100\n",
            "320/320 [==============================] - 1s 2ms/step - loss: 0.3746 - accuracy: 0.8422 - val_loss: 0.3752 - val_accuracy: 0.8413\n",
            "Epoch 25/100\n",
            "320/320 [==============================] - 1s 2ms/step - loss: 0.3724 - accuracy: 0.8425 - val_loss: 0.3740 - val_accuracy: 0.8438\n",
            "Epoch 26/100\n",
            "320/320 [==============================] - 1s 2ms/step - loss: 0.3707 - accuracy: 0.8448 - val_loss: 0.3719 - val_accuracy: 0.8419\n",
            "Epoch 27/100\n",
            "320/320 [==============================] - 1s 2ms/step - loss: 0.3690 - accuracy: 0.8450 - val_loss: 0.3703 - val_accuracy: 0.8388\n",
            "Epoch 28/100\n",
            "320/320 [==============================] - 1s 2ms/step - loss: 0.3675 - accuracy: 0.8466 - val_loss: 0.3690 - val_accuracy: 0.8375\n",
            "Epoch 29/100\n",
            "320/320 [==============================] - 1s 2ms/step - loss: 0.3662 - accuracy: 0.8473 - val_loss: 0.3677 - val_accuracy: 0.8400\n",
            "Epoch 30/100\n",
            "320/320 [==============================] - 1s 2ms/step - loss: 0.3649 - accuracy: 0.8466 - val_loss: 0.3668 - val_accuracy: 0.8406\n",
            "Epoch 31/100\n",
            "320/320 [==============================] - 1s 2ms/step - loss: 0.3638 - accuracy: 0.8481 - val_loss: 0.3659 - val_accuracy: 0.8400\n",
            "Epoch 32/100\n",
            "320/320 [==============================] - 1s 2ms/step - loss: 0.3628 - accuracy: 0.8481 - val_loss: 0.3647 - val_accuracy: 0.8438\n",
            "Epoch 33/100\n",
            "320/320 [==============================] - 1s 2ms/step - loss: 0.3621 - accuracy: 0.8492 - val_loss: 0.3641 - val_accuracy: 0.8431\n",
            "Epoch 34/100\n",
            "320/320 [==============================] - 1s 2ms/step - loss: 0.3613 - accuracy: 0.8486 - val_loss: 0.3634 - val_accuracy: 0.8425\n",
            "Epoch 35/100\n",
            "320/320 [==============================] - 1s 3ms/step - loss: 0.3605 - accuracy: 0.8483 - val_loss: 0.3626 - val_accuracy: 0.8413\n",
            "Epoch 36/100\n",
            "320/320 [==============================] - 1s 3ms/step - loss: 0.3598 - accuracy: 0.8498 - val_loss: 0.3620 - val_accuracy: 0.8425\n",
            "Epoch 37/100\n",
            "320/320 [==============================] - 1s 3ms/step - loss: 0.3590 - accuracy: 0.8494 - val_loss: 0.3615 - val_accuracy: 0.8431\n",
            "Epoch 38/100\n",
            "320/320 [==============================] - 1s 2ms/step - loss: 0.3584 - accuracy: 0.8487 - val_loss: 0.3609 - val_accuracy: 0.8438\n",
            "Epoch 39/100\n",
            "320/320 [==============================] - 1s 2ms/step - loss: 0.3579 - accuracy: 0.8494 - val_loss: 0.3602 - val_accuracy: 0.8425\n",
            "Epoch 40/100\n",
            "320/320 [==============================] - 1s 2ms/step - loss: 0.3575 - accuracy: 0.8483 - val_loss: 0.3600 - val_accuracy: 0.8450\n",
            "Epoch 41/100\n",
            "320/320 [==============================] - 1s 2ms/step - loss: 0.3569 - accuracy: 0.8497 - val_loss: 0.3593 - val_accuracy: 0.8450\n",
            "Epoch 42/100\n",
            "320/320 [==============================] - 1s 2ms/step - loss: 0.3566 - accuracy: 0.8505 - val_loss: 0.3591 - val_accuracy: 0.8438\n",
            "Epoch 43/100\n",
            "320/320 [==============================] - 1s 2ms/step - loss: 0.3561 - accuracy: 0.8522 - val_loss: 0.3585 - val_accuracy: 0.8456\n",
            "Epoch 44/100\n",
            "320/320 [==============================] - 1s 2ms/step - loss: 0.3557 - accuracy: 0.8519 - val_loss: 0.3583 - val_accuracy: 0.8456\n",
            "Epoch 45/100\n",
            "320/320 [==============================] - 1s 2ms/step - loss: 0.3551 - accuracy: 0.8509 - val_loss: 0.3586 - val_accuracy: 0.8444\n",
            "Epoch 46/100\n",
            "320/320 [==============================] - 1s 2ms/step - loss: 0.3551 - accuracy: 0.8508 - val_loss: 0.3576 - val_accuracy: 0.8450\n",
            "Epoch 47/100\n",
            "320/320 [==============================] - 1s 2ms/step - loss: 0.3545 - accuracy: 0.8502 - val_loss: 0.3574 - val_accuracy: 0.8462\n",
            "Epoch 48/100\n",
            "320/320 [==============================] - 1s 2ms/step - loss: 0.3542 - accuracy: 0.8525 - val_loss: 0.3569 - val_accuracy: 0.8462\n",
            "Epoch 49/100\n",
            "320/320 [==============================] - 1s 2ms/step - loss: 0.3538 - accuracy: 0.8522 - val_loss: 0.3567 - val_accuracy: 0.8475\n",
            "Epoch 50/100\n",
            "320/320 [==============================] - 1s 2ms/step - loss: 0.3535 - accuracy: 0.8522 - val_loss: 0.3567 - val_accuracy: 0.8469\n",
            "Epoch 51/100\n",
            "320/320 [==============================] - 1s 2ms/step - loss: 0.3532 - accuracy: 0.8531 - val_loss: 0.3562 - val_accuracy: 0.8469\n",
            "Epoch 52/100\n",
            "320/320 [==============================] - 1s 2ms/step - loss: 0.3528 - accuracy: 0.8539 - val_loss: 0.3562 - val_accuracy: 0.8469\n",
            "Epoch 53/100\n",
            "320/320 [==============================] - 1s 3ms/step - loss: 0.3523 - accuracy: 0.8544 - val_loss: 0.3556 - val_accuracy: 0.8487\n",
            "Epoch 54/100\n",
            "320/320 [==============================] - 1s 3ms/step - loss: 0.3522 - accuracy: 0.8539 - val_loss: 0.3555 - val_accuracy: 0.8475\n",
            "Epoch 55/100\n",
            "320/320 [==============================] - 1s 2ms/step - loss: 0.3518 - accuracy: 0.8544 - val_loss: 0.3553 - val_accuracy: 0.8469\n",
            "Epoch 56/100\n",
            "320/320 [==============================] - 1s 2ms/step - loss: 0.3515 - accuracy: 0.8539 - val_loss: 0.3552 - val_accuracy: 0.8462\n",
            "Epoch 57/100\n",
            "320/320 [==============================] - 1s 2ms/step - loss: 0.3511 - accuracy: 0.8550 - val_loss: 0.3549 - val_accuracy: 0.8481\n",
            "Epoch 58/100\n",
            "320/320 [==============================] - 1s 2ms/step - loss: 0.3510 - accuracy: 0.8559 - val_loss: 0.3548 - val_accuracy: 0.8487\n",
            "Epoch 59/100\n",
            "320/320 [==============================] - 1s 2ms/step - loss: 0.3507 - accuracy: 0.8536 - val_loss: 0.3544 - val_accuracy: 0.8481\n",
            "Epoch 60/100\n",
            "320/320 [==============================] - 1s 2ms/step - loss: 0.3502 - accuracy: 0.8536 - val_loss: 0.3544 - val_accuracy: 0.8481\n",
            "Epoch 61/100\n",
            "320/320 [==============================] - 1s 2ms/step - loss: 0.3501 - accuracy: 0.8552 - val_loss: 0.3544 - val_accuracy: 0.8487\n",
            "Epoch 62/100\n",
            "320/320 [==============================] - 1s 2ms/step - loss: 0.3497 - accuracy: 0.8566 - val_loss: 0.3540 - val_accuracy: 0.8481\n",
            "Epoch 63/100\n",
            "320/320 [==============================] - 1s 2ms/step - loss: 0.3495 - accuracy: 0.8567 - val_loss: 0.3538 - val_accuracy: 0.8494\n",
            "Epoch 64/100\n",
            "320/320 [==============================] - 1s 2ms/step - loss: 0.3492 - accuracy: 0.8562 - val_loss: 0.3537 - val_accuracy: 0.8494\n",
            "Epoch 65/100\n",
            "320/320 [==============================] - 1s 2ms/step - loss: 0.3488 - accuracy: 0.8561 - val_loss: 0.3537 - val_accuracy: 0.8500\n",
            "Epoch 66/100\n",
            "320/320 [==============================] - 1s 2ms/step - loss: 0.3488 - accuracy: 0.8569 - val_loss: 0.3535 - val_accuracy: 0.8500\n",
            "Epoch 67/100\n",
            "320/320 [==============================] - 1s 2ms/step - loss: 0.3483 - accuracy: 0.8577 - val_loss: 0.3539 - val_accuracy: 0.8506\n",
            "Epoch 68/100\n",
            "320/320 [==============================] - 1s 2ms/step - loss: 0.3483 - accuracy: 0.8577 - val_loss: 0.3534 - val_accuracy: 0.8500\n",
            "Epoch 69/100\n",
            "320/320 [==============================] - 1s 2ms/step - loss: 0.3480 - accuracy: 0.8570 - val_loss: 0.3534 - val_accuracy: 0.8506\n",
            "Epoch 70/100\n",
            "320/320 [==============================] - 1s 3ms/step - loss: 0.3477 - accuracy: 0.8575 - val_loss: 0.3534 - val_accuracy: 0.8519\n",
            "Epoch 71/100\n",
            "320/320 [==============================] - 1s 3ms/step - loss: 0.3476 - accuracy: 0.8580 - val_loss: 0.3533 - val_accuracy: 0.8506\n",
            "Epoch 72/100\n",
            "320/320 [==============================] - 1s 3ms/step - loss: 0.3473 - accuracy: 0.8583 - val_loss: 0.3532 - val_accuracy: 0.8512\n",
            "Epoch 73/100\n",
            "320/320 [==============================] - 1s 2ms/step - loss: 0.3472 - accuracy: 0.8581 - val_loss: 0.3530 - val_accuracy: 0.8512\n",
            "Epoch 74/100\n",
            "320/320 [==============================] - 1s 2ms/step - loss: 0.3471 - accuracy: 0.8569 - val_loss: 0.3532 - val_accuracy: 0.8525\n",
            "Epoch 75/100\n",
            "320/320 [==============================] - 1s 2ms/step - loss: 0.3467 - accuracy: 0.8573 - val_loss: 0.3534 - val_accuracy: 0.8519\n",
            "Epoch 76/100\n",
            "320/320 [==============================] - 1s 2ms/step - loss: 0.3465 - accuracy: 0.8577 - val_loss: 0.3529 - val_accuracy: 0.8506\n",
            "Epoch 77/100\n",
            "320/320 [==============================] - 1s 2ms/step - loss: 0.3465 - accuracy: 0.8580 - val_loss: 0.3528 - val_accuracy: 0.8506\n",
            "Epoch 78/100\n",
            "320/320 [==============================] - 1s 2ms/step - loss: 0.3463 - accuracy: 0.8578 - val_loss: 0.3526 - val_accuracy: 0.8519\n",
            "Epoch 79/100\n",
            "320/320 [==============================] - 1s 2ms/step - loss: 0.3458 - accuracy: 0.8591 - val_loss: 0.3527 - val_accuracy: 0.8487\n",
            "Epoch 80/100\n",
            "320/320 [==============================] - 1s 2ms/step - loss: 0.3459 - accuracy: 0.8584 - val_loss: 0.3526 - val_accuracy: 0.8525\n",
            "Epoch 81/100\n",
            "320/320 [==============================] - 1s 2ms/step - loss: 0.3456 - accuracy: 0.8578 - val_loss: 0.3526 - val_accuracy: 0.8512\n",
            "Epoch 82/100\n",
            "320/320 [==============================] - 1s 2ms/step - loss: 0.3455 - accuracy: 0.8583 - val_loss: 0.3525 - val_accuracy: 0.8531\n",
            "Epoch 83/100\n",
            "320/320 [==============================] - 1s 2ms/step - loss: 0.3452 - accuracy: 0.8575 - val_loss: 0.3529 - val_accuracy: 0.8544\n",
            "Epoch 84/100\n",
            "320/320 [==============================] - 1s 2ms/step - loss: 0.3451 - accuracy: 0.8586 - val_loss: 0.3525 - val_accuracy: 0.8512\n",
            "Epoch 85/100\n",
            "320/320 [==============================] - 1s 2ms/step - loss: 0.3449 - accuracy: 0.8578 - val_loss: 0.3528 - val_accuracy: 0.8569\n",
            "Epoch 86/100\n",
            "320/320 [==============================] - 1s 2ms/step - loss: 0.3449 - accuracy: 0.8583 - val_loss: 0.3524 - val_accuracy: 0.8519\n",
            "Epoch 87/100\n",
            "320/320 [==============================] - 1s 3ms/step - loss: 0.3448 - accuracy: 0.8581 - val_loss: 0.3523 - val_accuracy: 0.8537\n",
            "Epoch 88/100\n",
            "320/320 [==============================] - 1s 3ms/step - loss: 0.3447 - accuracy: 0.8591 - val_loss: 0.3522 - val_accuracy: 0.8525\n",
            "Epoch 89/100\n",
            "320/320 [==============================] - 1s 3ms/step - loss: 0.3444 - accuracy: 0.8597 - val_loss: 0.3525 - val_accuracy: 0.8537\n",
            "Epoch 90/100\n",
            "320/320 [==============================] - 1s 2ms/step - loss: 0.3442 - accuracy: 0.8583 - val_loss: 0.3523 - val_accuracy: 0.8512\n",
            "Epoch 91/100\n",
            "320/320 [==============================] - 1s 2ms/step - loss: 0.3442 - accuracy: 0.8589 - val_loss: 0.3523 - val_accuracy: 0.8537\n",
            "Epoch 92/100\n",
            "320/320 [==============================] - 1s 2ms/step - loss: 0.3442 - accuracy: 0.8578 - val_loss: 0.3525 - val_accuracy: 0.8531\n",
            "Epoch 93/100\n",
            "320/320 [==============================] - 1s 2ms/step - loss: 0.3438 - accuracy: 0.8583 - val_loss: 0.3530 - val_accuracy: 0.8537\n",
            "Epoch 94/100\n",
            "320/320 [==============================] - 1s 2ms/step - loss: 0.3441 - accuracy: 0.8594 - val_loss: 0.3528 - val_accuracy: 0.8556\n",
            "Epoch 95/100\n",
            "320/320 [==============================] - 1s 2ms/step - loss: 0.3437 - accuracy: 0.8598 - val_loss: 0.3529 - val_accuracy: 0.8544\n",
            "Epoch 96/100\n",
            "320/320 [==============================] - 1s 2ms/step - loss: 0.3436 - accuracy: 0.8591 - val_loss: 0.3525 - val_accuracy: 0.8525\n",
            "Epoch 97/100\n",
            "320/320 [==============================] - 1s 2ms/step - loss: 0.3436 - accuracy: 0.8584 - val_loss: 0.3524 - val_accuracy: 0.8531\n",
            "Epoch 98/100\n",
            "320/320 [==============================] - 1s 2ms/step - loss: 0.3434 - accuracy: 0.8603 - val_loss: 0.3524 - val_accuracy: 0.8531\n",
            "Epoch 99/100\n",
            "320/320 [==============================] - 1s 2ms/step - loss: 0.3434 - accuracy: 0.8592 - val_loss: 0.3525 - val_accuracy: 0.8531\n",
            "Epoch 100/100\n",
            "320/320 [==============================] - 1s 2ms/step - loss: 0.3431 - accuracy: 0.8606 - val_loss: 0.3526 - val_accuracy: 0.8512\n",
            "dict_keys(['loss', 'accuracy', 'val_loss', 'val_accuracy'])\n"
          ]
        },
        {
          "output_type": "display_data",
          "data": {
            "text/plain": [
              "<Figure size 640x480 with 1 Axes>"
            ],
            "image/png": "[encoded data removed]"
          },
          "metadata": {}
        }
      ]
    },
    {
      "cell_type": "code",
      "source": [
        "plt.plot(model_history.history['loss'])\n",
        "plt.plot(model_history.history['val_loss'])\n",
        "plt.title('model_loss')\n",
        "plt.ylabel('loss')\n",
        "plt.xlabel('epoch')\n",
        "plt.legend(['train', 'test'], loc='upper left')\n",
        "plt.show()"
      ],
      "metadata": {
        "colab": {
          "base_uri": "https://localhost:8080/",
          "height": 472
        },
        "id": "u221t5VxrJ8c",
        "outputId": "8e11b3c0-609f-4358-e287-23a7084ff08d"
      },
      "execution_count": 35,
      "outputs": [
        {
          "output_type": "display_data",
          "data": {
            "text/plain": [
              "<Figure size 640x480 with 1 Axes>"
            ],
            "image/png": "[encoded data removed]"
          },
          "metadata": {}
        }
      ]
    },
    {
      "cell_type": "markdown",
      "source": [
        "## **Making the predictions and evaluating the model**"
      ],
      "metadata": {
        "id": "27ISAqy-Htr0"
      }
    },
    {
      "cell_type": "code",
      "source": [
        "y_pred = classifier.predict(x_test)\n",
        "y_pred = (y_pred > 0.5)\n"
      ],
      "metadata": {
        "colab": {
          "base_uri": "https://localhost:8080/"
        },
        "id": "ha9d2Gh7HhM_",
        "outputId": "c9f3342e-be55-40d1-e59f-9acedfe1e30a"
      },
      "execution_count": 36,
      "outputs": [
        {
          "output_type": "stream",
          "name": "stdout",
          "text": [
            "63/63 [==============================] - 0s 1ms/step\n"
          ]
        }
      ]
    },
    {
      "cell_type": "code",
      "source": [
        "from sklearn.metrics import confusion_matrix\n",
        "cm = confusion_matrix(y_test, y_pred)\n",
        "print(cm)\n"
      ],
      "metadata": {
        "colab": {
          "base_uri": "https://localhost:8080/"
        },
        "id": "IGHC4amhH8UA",
        "outputId": "6d53c226-269c-45d2-b51e-a376709d8370"
      },
      "execution_count": 42,
      "outputs": [
        {
          "output_type": "stream",
          "name": "stdout",
          "text": [
            "[[1526   81]\n",
            " [ 206  187]]\n"
          ]
        }
      ]
    },
    {
      "cell_type": "markdown",
      "source": [
        "## **Calculating the accuracy**\n"
      ],
      "metadata": {
        "id": "VuTuq99GIGm1"
      }
    },
    {
      "cell_type": "code",
      "source": [
        "from sklearn.metrics import accuracy_score\n",
        "score = accuracy_score(y_pred, y_test)\n",
        "\n",
        "print('The accuracy score is: {} %'.format(score * 100))\n"
      ],
      "metadata": {
        "colab": {
          "base_uri": "https://localhost:8080/"
        },
        "id": "LAjWCc0hIEmF",
        "outputId": "19b16b27-af62-4e5a-b1fd-b1e93803ac7f"
      },
      "execution_count": 41,
      "outputs": [
        {
          "output_type": "stream",
          "name": "stdout",
          "text": [
            "The accuracy score is: 85.65 %\n"
          ]
        }
      ]
    },
    {
      "cell_type": "code",
      "source": [],
      "metadata": {
        "id": "cSWHk_-RIT-K"
      },
      "execution_count": null,
      "outputs": []
    }
  ]
}