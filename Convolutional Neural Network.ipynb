{
  "nbformat": 4,
  "nbformat_minor": 0,
  "metadata": {
    "colab": {
      "provenance": []
    },
    "kernelspec": {
      "name": "python3",
      "display_name": "Python 3"
    },
    "language_info": {
      "name": "python"
    }
  },
  "cells": [
    {
      "cell_type": "code",
      "execution_count": null,
      "metadata": {
        "id": "nQg8w1QT00ls"
      },
      "outputs": [],
      "source": [
        "import tensorflow as tf"
      ]
    },
    {
      "cell_type": "code",
      "source": [
        "import numpy as np\n",
        "import pandas as pd\n",
        "\n",
        "import warnings\n",
        "warnings.filterwarnings('ignore')\n",
        "from subprocess import check_output\n",
        "\n",
        "%matplotlib inline\n",
        "import matplotlib.pyplot as plt\n",
        "import tensorflow as tf\n",
        "\n",
        "from sklearn.metrics import confusion_matrix\n",
        "import time\n",
        "from datetime import timedelta\n",
        "import math\n",
        "\n",
        "from sklearn.model_selection import train_test_split\n",
        "\n"
      ],
      "metadata": {
        "id": "2qqZ8fpp3UKT"
      },
      "execution_count": null,
      "outputs": []
    },
    {
      "cell_type": "code",
      "source": [
        "import glob\n",
        "import os\n",
        "import math\n",
        "import operator\n",
        "import functools\n",
        "import random\n",
        "import datetime\n",
        "from scipy.ndimage.interpolation import rotate, shift, zoom"
      ],
      "metadata": {
        "id": "2zIaZ_Ci4j6X"
      },
      "execution_count": null,
      "outputs": []
    },
    {
      "cell_type": "code",
      "source": [
        "from google.colab import files\n",
        "uploaded = files.upload()"
      ],
      "metadata": {
        "colab": {
          "base_uri": "https://localhost:8080/",
          "height": 73
        },
        "id": "bpAT_UXL4694",
        "outputId": "c6bed1fa-3ff6-4957-8c86-eab811f07996"
      },
      "execution_count": 5,
      "outputs": [
        {
          "output_type": "display_data",
          "data": {
            "text/plain": [
              "<IPython.core.display.HTML object>"
            ],
            "text/html": [
              "\n",
              "     <input type=\"file\" id=\"files-25686e51-5db2-49f4-a026-a3070cf3863f\" name=\"files[]\" multiple disabled\n",
              "        style=\"border:none\" />\n",
              "     <output id=\"result-25686e51-5db2-49f4-a026-a3070cf3863f\">\n",
              "      Upload widget is only available when the cell has been executed in the\n",
              "      current browser session. Please rerun this cell to enable.\n",
              "      </output>\n",
              "      <script>// Copyright 2017 Google LLC\n",
              "//\n",
              "// Licensed under the Apache License, Version 2.0 (the \"License\");\n",
              "// you may not use this file except in compliance with the License.\n",
              "// You may obtain a copy of the License at\n",
              "//\n",
              "//      http://www.apache.org/licenses/LICENSE-2.0\n",
              "//\n",
              "// Unless required by applicable law or agreed to in writing, software\n",
              "// distributed under the License is distributed on an \"AS IS\" BASIS,\n",
              "// WITHOUT WARRANTIES OR CONDITIONS OF ANY KIND, either express or implied.\n",
              "// See the License for the specific language governing permissions and\n",
              "// limitations under the License.\n",
              "\n",
              "/**\n",
              " * @fileoverview Helpers for google.colab Python module.\n",
              " */\n",
              "(function(scope) {\n",
              "function span(text, styleAttributes = {}) {\n",
              "  const element = document.createElement('span');\n",
              "  element.textContent = text;\n",
              "  for (const key of Object.keys(styleAttributes)) {\n",
              "    element.style[key] = styleAttributes[key];\n",
              "  }\n",
              "  return element;\n",
              "}\n",
              "\n",
              "// Max number of bytes which will be uploaded at a time.\n",
              "const MAX_PAYLOAD_SIZE = 100 * 1024;\n",
              "\n",
              "function _uploadFiles(inputId, outputId) {\n",
              "  const steps = uploadFilesStep(inputId, outputId);\n",
              "  const outputElement = document.getElementById(outputId);\n",
              "  // Cache steps on the outputElement to make it available for the next call\n",
              "  // to uploadFilesContinue from Python.\n",
              "  outputElement.steps = steps;\n",
              "\n",
              "  return _uploadFilesContinue(outputId);\n",
              "}\n",
              "\n",
              "// This is roughly an async generator (not supported in the browser yet),\n",
              "// where there are multiple asynchronous steps and the Python side is going\n",
              "// to poll for completion of each step.\n",
              "// This uses a Promise to block the python side on completion of each step,\n",
              "// then passes the result of the previous step as the input to the next step.\n",
              "function _uploadFilesContinue(outputId) {\n",
              "  const outputElement = document.getElementById(outputId);\n",
              "  const steps = outputElement.steps;\n",
              "\n",
              "  const next = steps.next(outputElement.lastPromiseValue);\n",
              "  return Promise.resolve(next.value.promise).then((value) => {\n",
              "    // Cache the last promise value to make it available to the next\n",
              "    // step of the generator.\n",
              "    outputElement.lastPromiseValue = value;\n",
              "    return next.value.response;\n",
              "  });\n",
              "}\n",
              "\n",
              "/**\n",
              " * Generator function which is called between each async step of the upload\n",
              " * process.\n",
              " * @param {string} inputId Element ID of the input file picker element.\n",
              " * @param {string} outputId Element ID of the output display.\n",
              " * @return {!Iterable<!Object>} Iterable of next steps.\n",
              " */\n",
              "function* uploadFilesStep(inputId, outputId) {\n",
              "  const inputElement = document.getElementById(inputId);\n",
              "  inputElement.disabled = false;\n",
              "\n",
              "  const outputElement = document.getElementById(outputId);\n",
              "  outputElement.innerHTML = '';\n",
              "\n",
              "  const pickedPromise = new Promise((resolve) => {\n",
              "    inputElement.addEventListener('change', (e) => {\n",
              "      resolve(e.target.files);\n",
              "    });\n",
              "  });\n",
              "\n",
              "  const cancel = document.createElement('button');\n",
              "  inputElement.parentElement.appendChild(cancel);\n",
              "  cancel.textContent = 'Cancel upload';\n",
              "  const cancelPromise = new Promise((resolve) => {\n",
              "    cancel.onclick = () => {\n",
              "      resolve(null);\n",
              "    };\n",
              "  });\n",
              "\n",
              "  // Wait for the user to pick the files.\n",
              "  const files = yield {\n",
              "    promise: Promise.race([pickedPromise, cancelPromise]),\n",
              "    response: {\n",
              "      action: 'starting',\n",
              "    }\n",
              "  };\n",
              "\n",
              "  cancel.remove();\n",
              "\n",
              "  // Disable the input element since further picks are not allowed.\n",
              "  inputElement.disabled = true;\n",
              "\n",
              "  if (!files) {\n",
              "    return {\n",
              "      response: {\n",
              "        action: 'complete',\n",
              "      }\n",
              "    };\n",
              "  }\n",
              "\n",
              "  for (const file of files) {\n",
              "    const li = document.createElement('li');\n",
              "    li.append(span(file.name, {fontWeight: 'bold'}));\n",
              "    li.append(span(\n",
              "        `(${file.type || 'n/a'}) - ${file.size} bytes, ` +\n",
              "        `last modified: ${\n",
              "            file.lastModifiedDate ? file.lastModifiedDate.toLocaleDateString() :\n",
              "                                    'n/a'} - `));\n",
              "    const percent = span('0% done');\n",
              "    li.appendChild(percent);\n",
              "\n",
              "    outputElement.appendChild(li);\n",
              "\n",
              "    const fileDataPromise = new Promise((resolve) => {\n",
              "      const reader = new FileReader();\n",
              "      reader.onload = (e) => {\n",
              "        resolve(e.target.result);\n",
              "      };\n",
              "      reader.readAsArrayBuffer(file);\n",
              "    });\n",
              "    // Wait for the data to be ready.\n",
              "    let fileData = yield {\n",
              "      promise: fileDataPromise,\n",
              "      response: {\n",
              "        action: 'continue',\n",
              "      }\n",
              "    };\n",
              "\n",
              "    // Use a chunked sending to avoid message size limits. See b/62115660.\n",
              "    let position = 0;\n",
              "    do {\n",
              "      const length = Math.min(fileData.byteLength - position, MAX_PAYLOAD_SIZE);\n",
              "      const chunk = new Uint8Array(fileData, position, length);\n",
              "      position += length;\n",
              "\n",
              "      const base64 = btoa(String.fromCharCode.apply(null, chunk));\n",
              "      yield {\n",
              "        response: {\n",
              "          action: 'append',\n",
              "          file: file.name,\n",
              "          data: base64,\n",
              "        },\n",
              "      };\n",
              "\n",
              "      let percentDone = fileData.byteLength === 0 ?\n",
              "          100 :\n",
              "          Math.round((position / fileData.byteLength) * 100);\n",
              "      percent.textContent = `${percentDone}% done`;\n",
              "\n",
              "    } while (position < fileData.byteLength);\n",
              "  }\n",
              "\n",
              "  // All done.\n",
              "  yield {\n",
              "    response: {\n",
              "      action: 'complete',\n",
              "    }\n",
              "  };\n",
              "}\n",
              "\n",
              "scope.google = scope.google || {};\n",
              "scope.google.colab = scope.google.colab || {};\n",
              "scope.google.colab._files = {\n",
              "  _uploadFiles,\n",
              "  _uploadFilesContinue,\n",
              "};\n",
              "})(self);\n",
              "</script> "
            ]
          },
          "metadata": {}
        },
        {
          "output_type": "stream",
          "name": "stdout",
          "text": [
            "Saving X.npy to X.npy\n"
          ]
        }
      ]
    },
    {
      "cell_type": "code",
      "source": [
        "from google.colab import files\n",
        "uploaded = files.upload()"
      ],
      "metadata": {
        "id": "Gxmd3b8MBu-q",
        "colab": {
          "base_uri": "https://localhost:8080/",
          "height": 73
        },
        "outputId": "a210ebf4-bfd3-4f48-e207-8df374e4abbf"
      },
      "execution_count": 6,
      "outputs": [
        {
          "output_type": "display_data",
          "data": {
            "text/plain": [
              "<IPython.core.display.HTML object>"
            ],
            "text/html": [
              "\n",
              "     <input type=\"file\" id=\"files-30b7ea2d-e6b0-4730-8bab-ce4bfae3584d\" name=\"files[]\" multiple disabled\n",
              "        style=\"border:none\" />\n",
              "     <output id=\"result-30b7ea2d-e6b0-4730-8bab-ce4bfae3584d\">\n",
              "      Upload widget is only available when the cell has been executed in the\n",
              "      current browser session. Please rerun this cell to enable.\n",
              "      </output>\n",
              "      <script>// Copyright 2017 Google LLC\n",
              "//\n",
              "// Licensed under the Apache License, Version 2.0 (the \"License\");\n",
              "// you may not use this file except in compliance with the License.\n",
              "// You may obtain a copy of the License at\n",
              "//\n",
              "//      http://www.apache.org/licenses/LICENSE-2.0\n",
              "//\n",
              "// Unless required by applicable law or agreed to in writing, software\n",
              "// distributed under the License is distributed on an \"AS IS\" BASIS,\n",
              "// WITHOUT WARRANTIES OR CONDITIONS OF ANY KIND, either express or implied.\n",
              "// See the License for the specific language governing permissions and\n",
              "// limitations under the License.\n",
              "\n",
              "/**\n",
              " * @fileoverview Helpers for google.colab Python module.\n",
              " */\n",
              "(function(scope) {\n",
              "function span(text, styleAttributes = {}) {\n",
              "  const element = document.createElement('span');\n",
              "  element.textContent = text;\n",
              "  for (const key of Object.keys(styleAttributes)) {\n",
              "    element.style[key] = styleAttributes[key];\n",
              "  }\n",
              "  return element;\n",
              "}\n",
              "\n",
              "// Max number of bytes which will be uploaded at a time.\n",
              "const MAX_PAYLOAD_SIZE = 100 * 1024;\n",
              "\n",
              "function _uploadFiles(inputId, outputId) {\n",
              "  const steps = uploadFilesStep(inputId, outputId);\n",
              "  const outputElement = document.getElementById(outputId);\n",
              "  // Cache steps on the outputElement to make it available for the next call\n",
              "  // to uploadFilesContinue from Python.\n",
              "  outputElement.steps = steps;\n",
              "\n",
              "  return _uploadFilesContinue(outputId);\n",
              "}\n",
              "\n",
              "// This is roughly an async generator (not supported in the browser yet),\n",
              "// where there are multiple asynchronous steps and the Python side is going\n",
              "// to poll for completion of each step.\n",
              "// This uses a Promise to block the python side on completion of each step,\n",
              "// then passes the result of the previous step as the input to the next step.\n",
              "function _uploadFilesContinue(outputId) {\n",
              "  const outputElement = document.getElementById(outputId);\n",
              "  const steps = outputElement.steps;\n",
              "\n",
              "  const next = steps.next(outputElement.lastPromiseValue);\n",
              "  return Promise.resolve(next.value.promise).then((value) => {\n",
              "    // Cache the last promise value to make it available to the next\n",
              "    // step of the generator.\n",
              "    outputElement.lastPromiseValue = value;\n",
              "    return next.value.response;\n",
              "  });\n",
              "}\n",
              "\n",
              "/**\n",
              " * Generator function which is called between each async step of the upload\n",
              " * process.\n",
              " * @param {string} inputId Element ID of the input file picker element.\n",
              " * @param {string} outputId Element ID of the output display.\n",
              " * @return {!Iterable<!Object>} Iterable of next steps.\n",
              " */\n",
              "function* uploadFilesStep(inputId, outputId) {\n",
              "  const inputElement = document.getElementById(inputId);\n",
              "  inputElement.disabled = false;\n",
              "\n",
              "  const outputElement = document.getElementById(outputId);\n",
              "  outputElement.innerHTML = '';\n",
              "\n",
              "  const pickedPromise = new Promise((resolve) => {\n",
              "    inputElement.addEventListener('change', (e) => {\n",
              "      resolve(e.target.files);\n",
              "    });\n",
              "  });\n",
              "\n",
              "  const cancel = document.createElement('button');\n",
              "  inputElement.parentElement.appendChild(cancel);\n",
              "  cancel.textContent = 'Cancel upload';\n",
              "  const cancelPromise = new Promise((resolve) => {\n",
              "    cancel.onclick = () => {\n",
              "      resolve(null);\n",
              "    };\n",
              "  });\n",
              "\n",
              "  // Wait for the user to pick the files.\n",
              "  const files = yield {\n",
              "    promise: Promise.race([pickedPromise, cancelPromise]),\n",
              "    response: {\n",
              "      action: 'starting',\n",
              "    }\n",
              "  };\n",
              "\n",
              "  cancel.remove();\n",
              "\n",
              "  // Disable the input element since further picks are not allowed.\n",
              "  inputElement.disabled = true;\n",
              "\n",
              "  if (!files) {\n",
              "    return {\n",
              "      response: {\n",
              "        action: 'complete',\n",
              "      }\n",
              "    };\n",
              "  }\n",
              "\n",
              "  for (const file of files) {\n",
              "    const li = document.createElement('li');\n",
              "    li.append(span(file.name, {fontWeight: 'bold'}));\n",
              "    li.append(span(\n",
              "        `(${file.type || 'n/a'}) - ${file.size} bytes, ` +\n",
              "        `last modified: ${\n",
              "            file.lastModifiedDate ? file.lastModifiedDate.toLocaleDateString() :\n",
              "                                    'n/a'} - `));\n",
              "    const percent = span('0% done');\n",
              "    li.appendChild(percent);\n",
              "\n",
              "    outputElement.appendChild(li);\n",
              "\n",
              "    const fileDataPromise = new Promise((resolve) => {\n",
              "      const reader = new FileReader();\n",
              "      reader.onload = (e) => {\n",
              "        resolve(e.target.result);\n",
              "      };\n",
              "      reader.readAsArrayBuffer(file);\n",
              "    });\n",
              "    // Wait for the data to be ready.\n",
              "    let fileData = yield {\n",
              "      promise: fileDataPromise,\n",
              "      response: {\n",
              "        action: 'continue',\n",
              "      }\n",
              "    };\n",
              "\n",
              "    // Use a chunked sending to avoid message size limits. See b/62115660.\n",
              "    let position = 0;\n",
              "    do {\n",
              "      const length = Math.min(fileData.byteLength - position, MAX_PAYLOAD_SIZE);\n",
              "      const chunk = new Uint8Array(fileData, position, length);\n",
              "      position += length;\n",
              "\n",
              "      const base64 = btoa(String.fromCharCode.apply(null, chunk));\n",
              "      yield {\n",
              "        response: {\n",
              "          action: 'append',\n",
              "          file: file.name,\n",
              "          data: base64,\n",
              "        },\n",
              "      };\n",
              "\n",
              "      let percentDone = fileData.byteLength === 0 ?\n",
              "          100 :\n",
              "          Math.round((position / fileData.byteLength) * 100);\n",
              "      percent.textContent = `${percentDone}% done`;\n",
              "\n",
              "    } while (position < fileData.byteLength);\n",
              "  }\n",
              "\n",
              "  // All done.\n",
              "  yield {\n",
              "    response: {\n",
              "      action: 'complete',\n",
              "    }\n",
              "  };\n",
              "}\n",
              "\n",
              "scope.google = scope.google || {};\n",
              "scope.google.colab = scope.google.colab || {};\n",
              "scope.google.colab._files = {\n",
              "  _uploadFiles,\n",
              "  _uploadFilesContinue,\n",
              "};\n",
              "})(self);\n",
              "</script> "
            ]
          },
          "metadata": {}
        },
        {
          "output_type": "stream",
          "name": "stdout",
          "text": [
            "Saving Y.npy to Y.npy\n"
          ]
        }
      ]
    },
    {
      "cell_type": "code",
      "source": [
        "all_X = np.load('X.npy')\n",
        "all_Y = np.load('Y.npy')"
      ],
      "metadata": {
        "id": "r4gwerV2DXop"
      },
      "execution_count": 9,
      "outputs": []
    },
    {
      "cell_type": "code",
      "source": [
        "test_size = 0.15\n",
        "X_train, X_test, Y_train, Y_test = train_test_split(all_X, all_Y, test_size=test_size, random_state=42)\n"
      ],
      "metadata": {
        "id": "-xzYC9YiDHTc"
      },
      "execution_count": 10,
      "outputs": []
    },
    {
      "cell_type": "code",
      "source": [
        "print(\"Training Shape: \", X_train.shape)\n",
        "print(X_train.shape[0], 'sample', X_train.shape[1], 'x', X_train.shape[2], 'size grayscale image.\\n')\n",
        "\n",
        "print('Test Shape: ', X_test.shape)\n",
        "\n",
        "print(X_test.shape[0], 'sample,', X_test.shape[1], 'x', X_test.shape[2], 'size grayscale image. \\n')\n"
      ],
      "metadata": {
        "id": "Nxz7F_kdDqZD",
        "colab": {
          "base_uri": "https://localhost:8080/"
        },
        "outputId": "ad2990c7-cdb3-46a2-cd5b-13fd27c7f3d5"
      },
      "execution_count": 11,
      "outputs": [
        {
          "output_type": "stream",
          "name": "stdout",
          "text": [
            "Training Shape:  (1752, 64, 64)\n",
            "1752 sample 64 x 64 size grayscale image.\n",
            "\n",
            "Test Shape:  (310, 64, 64)\n",
            "310 sample, 64 x 64 size grayscale image. \n",
            "\n"
          ]
        }
      ]
    },
    {
      "cell_type": "code",
      "source": [
        "Y_test_cls = np.argmax(Y_test, axis=1)\n",
        "Y_train_cls = np.argmax(Y_train, axis=1)\n"
      ],
      "metadata": {
        "id": "RWlZyvWbEV8X"
      },
      "execution_count": 12,
      "outputs": []
    },
    {
      "cell_type": "code",
      "source": [
        "img_size = 64\n",
        "\n",
        "img_size_flat = img_size * img_size\n",
        "\n",
        "img_shape = (img_size, img_size)\n",
        "\n",
        "num_channels = 1\n",
        "\n",
        "num_classes = 10\n",
        "\n"
      ],
      "metadata": {
        "id": "DyyYRX3HGrAy"
      },
      "execution_count": 13,
      "outputs": []
    },
    {
      "cell_type": "code",
      "source": [
        "def plot_images(images, cls_true, cls_pred = None):\n",
        "  assert len(images) == len(cls_true) == 9\n",
        "\n",
        "  fig, axes = plt.subplots(3, 3)\n",
        "  fig.subplots_adjust(hspace=0.3, wspace=0.3)\n",
        "\n",
        "  for i, ax in enumerate(axes.flat):\n",
        "    ax.imshow(images[i].reshape(img_shape), cmap='binary')\n",
        "\n",
        "    if cls_pred is None:\n",
        "      xlabel = \"True: {0}\".format(cls_true[i])\n",
        "    else:\n",
        "      xlabel = \"True: {0}, Pred: {1}\".format(cls_true[i], cls_pred[i])\n",
        "\n",
        "    ax.set_xlabel(xlabel)\n",
        "\n",
        "    ax.set_xticks([])\n",
        "    ax.set_yticks([])\n",
        "\n",
        "  plt.show()"
      ],
      "metadata": {
        "id": "i0uA428HHFdD"
      },
      "execution_count": 14,
      "outputs": []
    },
    {
      "cell_type": "code",
      "source": [
        "images = X_test[0:9]\n",
        "\n",
        "cls_true = Y_test_cls[0:9]\n",
        "\n",
        "plot_images(images=images, cls_true=cls_true)\n"
      ],
      "metadata": {
        "id": "nIkj8xNFLW3P",
        "colab": {
          "base_uri": "https://localhost:8080/",
          "height": 262
        },
        "outputId": "8bfa77ca-9e54-4a58-eb2c-fc8e1dca5ad2"
      },
      "execution_count": 15,
      "outputs": [
        {
          "output_type": "display_data",
          "data": {
            "text/plain": [
              "<Figure size 432x288 with 9 Axes>"
            ],
            "image/png": "[encoded data removed]"
          },
          "metadata": {}
        }
      ]
    },
    {
      "cell_type": "code",
      "source": [
        "train_X = X_train\n",
        "train_Y = Y_train\n",
        "new_train_X = train_X.reshape(X_train.shape[0], img_size_flat)\n",
        "new_test_X = X_test.reshape(X_test.shape[0], img_size_flat)\n"
      ],
      "metadata": {
        "id": "38EH3T25LooY"
      },
      "execution_count": 18,
      "outputs": []
    },
    {
      "cell_type": "code",
      "source": [
        "print(\"Training set (images) shape: {shape}\".format(shape=new_train_X.shape))\n",
        "\n",
        "print(\"Training set (labels) shape: {shape}\".format(shape=train_Y.shape))\n",
        "\n",
        "print(\"Test set (images) shape: {shape}\".format(shape=new_test_X.shape))\n",
        "\n",
        "print(\"Test set (labels) shape: {shape}\".format(shape=Y_test.shape))\n"
      ],
      "metadata": {
        "id": "r51oMLyWMUq9",
        "colab": {
          "base_uri": "https://localhost:8080/"
        },
        "outputId": "8cc9c189-da7a-4f1d-ed99-d3c96a665476"
      },
      "execution_count": 19,
      "outputs": [
        {
          "output_type": "stream",
          "name": "stdout",
          "text": [
            "Training set (images) shape: (1752, 4096)\n",
            "Training set (labels) shape: (1752, 10)\n",
            "Test set (images) shape: (310, 4096)\n",
            "Test set (labels) shape: (310, 10)\n"
          ]
        }
      ]
    },
    {
      "cell_type": "markdown",
      "source": [
        "### Configuration of Neural Network"
      ],
      "metadata": {
        "id": "bJBmPdViNVUh"
      }
    },
    {
      "cell_type": "code",
      "source": [
        "learning_rate = 0.001\n",
        "training_iters = 40000\n",
        "batch_size = 16\n",
        "display_step = 20\n",
        "\n",
        "n_input = img_size_flat\n",
        "dropout = 0.75"
      ],
      "metadata": {
        "id": "5E5XIew5MwOU"
      },
      "execution_count": 20,
      "outputs": []
    },
    {
      "cell_type": "code",
      "source": [
        "import tensorflow as tf\n",
        "import tensorflow.compat.v1 as tf\n",
        "tf.disable_v2_behavior()"
      ],
      "metadata": {
        "id": "fNmaivtNSGgt",
        "colab": {
          "base_uri": "https://localhost:8080/"
        },
        "outputId": "0ba5d8ba-a491-40b7-e157-be2d545b7d7d"
      },
      "execution_count": 21,
      "outputs": [
        {
          "output_type": "stream",
          "name": "stderr",
          "text": [
            "WARNING:tensorflow:From /usr/local/lib/python3.8/dist-packages/tensorflow/python/compat/v2_compat.py:107: disable_resource_variables (from tensorflow.python.ops.variable_scope) is deprecated and will be removed in a future version.\n",
            "Instructions for updating:\n",
            "non-resource variables are not supported in the long term\n"
          ]
        }
      ]
    },
    {
      "cell_type": "code",
      "source": [
        "x = tf.placeholder(tf.float32, [None, n_input])\n",
        "y = tf.placeholder(tf.float32, [None, num_classes])\n",
        "keep_prob = tf.placeholder(tf.float32)\n",
        "print('Shape of placeholder', x.shape, y.shape)\n"
      ],
      "metadata": {
        "id": "gHGVBm-nNvy5",
        "colab": {
          "base_uri": "https://localhost:8080/"
        },
        "outputId": "a4fca41a-1740-48c0-ebdb-8d43f92f442f"
      },
      "execution_count": 22,
      "outputs": [
        {
          "output_type": "stream",
          "name": "stdout",
          "text": [
            "Shape of placeholder (?, 4096) (?, 10)\n"
          ]
        }
      ]
    },
    {
      "cell_type": "code",
      "source": [
        "def conv2d(x, W, b, strides=1):\n",
        "  x = tf.nn.conv2d(x, W, strides=[1, strides, strides, 1], padding='SAME')\n",
        "  x = tf.nn.bias_add(x, b)\n",
        "  return tf.nn.relu(x)\n",
        "  "
      ],
      "metadata": {
        "id": "nN8qfPqIR0KG"
      },
      "execution_count": 23,
      "outputs": []
    },
    {
      "cell_type": "code",
      "source": [
        "def maxpool2d(x, k=2):\n",
        "  return tf.nn.max_pool(x, ksize=[1, k, k, 1], strides=[1, k, k, 1], padding='SAME')\n"
      ],
      "metadata": {
        "id": "iFIy-MS2V2KK"
      },
      "execution_count": 24,
      "outputs": []
    },
    {
      "cell_type": "code",
      "source": [
        "def conv_net(x, weights, biases, dropout):\n",
        "  x = tf.reshape(x, shape=[-1, 64, 64, 1])\n",
        "\n",
        "  conv1 = conv2d(x, weights['wc1'], biases['bc1'])\n",
        "  conv1 = maxpool2d(conv1, k=2)\n",
        "\n",
        "  conv2 = conv2d(conv1, weights['wc2'], biases['bc2'])\n",
        "  conv2 = maxpool2d(conv2, k=2)\n",
        "\n",
        "  fc1 = tf.reshape(conv2, [-1, weights['wd1'].get_shape().as_list()[0]])\n",
        "  fc1 = tf.add(tf.matmul(fc1, weights['wd1']), biases['bd1'])\n",
        "  fc1 = tf.nn.relu(fc1)\n",
        "  fc1 = tf.nn.dropout(fc1, dropout)\n",
        "\n",
        "  out = tf.add(tf.matmul(fc1, weights['out']), biases['out'])\n",
        "  return out\n",
        "\n",
        "  "
      ],
      "metadata": {
        "id": "97bxRcYsWIdP"
      },
      "execution_count": 25,
      "outputs": []
    },
    {
      "cell_type": "code",
      "source": [
        "weights = {\n",
        "    'wc1': tf.Variable(tf.random_normal([5, 5, 1, 32]), name='wc1'),\n",
        "    'wc2': tf.Variable(tf.random_normal([5, 5, 32, 64]), name='wc2'),\n",
        "    'wd1': tf.Variable(tf.random_normal([64 * 64 * 4, 1024]), name='wout'),\n",
        "    'out': tf.Variable(tf.random_normal([1024, num_classes]), name='wout')\n",
        "}\n",
        "\n",
        "biases = {\n",
        "    'bc1': tf.Variable(tf.random_normal([32]), name='bc1'),\n",
        "    'bc2': tf.Variable(tf.random_normal([64]), name='bc2'),\n",
        "    'bd1': tf.Variable(tf.random_normal([1024]), name='bd1'),\n",
        "    'out': tf.Variable(tf.random_normal([num_classes]), name='bout')\n",
        "\n",
        "}"
      ],
      "metadata": {
        "id": "v74n6jPeXzV2"
      },
      "execution_count": 26,
      "outputs": []
    },
    {
      "cell_type": "code",
      "source": [
        "model = conv_net(x, weights, biases, keep_prob)\n",
        "print(model)\n",
        "\n",
        "cost = tf.reduce_mean(tf.nn.softmax_cross_entropy_with_logits(logits=model, labels=y))\n",
        "optimizer = tf.train.AdadeltaOptimizer(learning_rate=learning_rate).minimize(cost)\n",
        "\n",
        "y_true_cls = tf.argmax(y, 1)\n",
        "y_pred_cls = tf.argmax(model, 1)\n",
        "\n",
        "correct_model = tf.equal(y_pred_cls, y_true_cls)\n",
        "accuracy = tf.reduce_mean(tf.cast(correct_model, tf.float32))\n",
        "\n",
        "init = tf.global_variables_initializer()"
      ],
      "metadata": {
        "id": "HTjiidLYZjop",
        "colab": {
          "base_uri": "https://localhost:8080/"
        },
        "outputId": "a2d53413-052b-46fb-c877-62a63b00032b"
      },
      "execution_count": 27,
      "outputs": [
        {
          "output_type": "stream",
          "name": "stderr",
          "text": [
            "WARNING:tensorflow:From /usr/local/lib/python3.8/dist-packages/tensorflow/python/util/dispatch.py:1082: calling dropout (from tensorflow.python.ops.nn_ops) with keep_prob is deprecated and will be removed in a future version.\n",
            "Instructions for updating:\n",
            "Please use `rate` instead of `keep_prob`. Rate should be set to `rate = 1 - keep_prob`.\n",
            "WARNING:tensorflow:From /usr/local/lib/python3.8/dist-packages/tensorflow/python/util/dispatch.py:1082: softmax_cross_entropy_with_logits (from tensorflow.python.ops.nn_ops) is deprecated and will be removed in a future version.\n",
            "Instructions for updating:\n",
            "\n",
            "Future major versions of TensorFlow will allow gradients to flow\n",
            "into the labels input on backprop by default.\n",
            "\n",
            "See `tf.nn.softmax_cross_entropy_with_logits_v2`.\n",
            "\n"
          ]
        },
        {
          "output_type": "stream",
          "name": "stdout",
          "text": [
            "Tensor(\"Add_1:0\", shape=(?, 10), dtype=float32)\n"
          ]
        }
      ]
    },
    {
      "cell_type": "code",
      "source": [
        "def getBatch(X, Y, batchSize=16):\n",
        "  arrayLength = X.shape[0]\n",
        "  count = 0\n",
        "\n",
        "  while count < arrayLength / batchSize:\n",
        "    random.seed(datetime.datetime.now())\n",
        "    randstart = random.randint(0, arrayLength-batchSize-1)\n",
        "    count += 1\n",
        "    yield (X[randstart:randstart+batchSize], Y[randstart:randstart+batchSize])\n",
        "\n"
      ],
      "metadata": {
        "id": "EznKw1ZFT0VT"
      },
      "execution_count": 28,
      "outputs": []
    },
    {
      "cell_type": "code",
      "source": [
        "loss_t = []\n",
        "steps_t = []\n",
        "acc_t = []\n",
        "\n",
        "# Launch the graph\n",
        "with tf.Session() as sess:\n",
        "    sess.run(init)\n",
        "    step = 1   \n",
        "#     Keep training until reach max iterations\n",
        "    while step * batch_size < training_iters:\n",
        "        a = getBatch(new_train_X,train_Y, batch_size)\n",
        "        batch_x, batch_y = next(a)\n",
        "        sess.run(optimizer, feed_dict={x: batch_x, y: batch_y, keep_prob: dropout})\n",
        "        if step % display_step == 0:\n",
        "            print('*'*15)\n",
        "            loss, acc = sess.run([cost, accuracy], feed_dict={x: batch_x,\n",
        "                                                              y: batch_y,\n",
        "                                                              keep_prob: 1.})\n",
        "            print(\"Iter \" + str(step*batch_size) + \", Loss= \" + \\\n",
        "                  \"{:.3f}\".format(loss) + \", Training Accuracy= \" + \\\n",
        "                  \"{:.3f}\".format(acc))\n",
        "            loss_t.append(loss)\n",
        "            steps_t.append(step*batch_size)\n",
        "            acc_t.append(acc)\n",
        "        step += 1\n",
        "    \n",
        "   #\n",
        "    print(\"Testing Accuracy:\", \\\n",
        "        sess.run(accuracy, feed_dict={x: new_test_X,\n",
        "                                      y: Y_test,\n",
        "                                      keep_prob: 1.}))\n",
        "    \n",
        "    cls_pred = sess.run(y_pred_cls, feed_dict={x: new_test_X,\n",
        "                                      y: Y_test,\n",
        "                                      keep_prob: 1.})"
      ],
      "metadata": {
        "id": "hDsvOdkimL3X",
        "colab": {
          "base_uri": "https://localhost:8080/"
        },
        "outputId": "083967f0-82c5-4c61-ec0d-a7a09ab7f535"
      },
      "execution_count": 29,
      "outputs": [
        {
          "output_type": "stream",
          "name": "stdout",
          "text": [
            "***************\n",
            "Iter 320, Loss= 144597.453, Training Accuracy= 0.062\n",
            "***************\n",
            "Iter 640, Loss= 179295.734, Training Accuracy= 0.062\n",
            "***************\n",
            "Iter 960, Loss= 115277.562, Training Accuracy= 0.125\n",
            "***************\n",
            "Iter 1280, Loss= 137227.938, Training Accuracy= 0.125\n",
            "***************\n",
            "Iter 1600, Loss= 155092.172, Training Accuracy= 0.062\n",
            "***************\n",
            "Iter 1920, Loss= 136101.344, Training Accuracy= 0.125\n",
            "***************\n",
            "Iter 2240, Loss= 172054.500, Training Accuracy= 0.062\n",
            "***************\n",
            "Iter 2560, Loss= 158939.906, Training Accuracy= 0.062\n",
            "***************\n",
            "Iter 2880, Loss= 166190.906, Training Accuracy= 0.062\n",
            "***************\n",
            "Iter 3200, Loss= 122215.609, Training Accuracy= 0.125\n",
            "***************\n",
            "Iter 3520, Loss= 148977.469, Training Accuracy= 0.125\n",
            "***************\n",
            "Iter 3840, Loss= 160454.938, Training Accuracy= 0.000\n",
            "***************\n",
            "Iter 4160, Loss= 150563.969, Training Accuracy= 0.125\n",
            "***************\n",
            "Iter 4480, Loss= 111250.625, Training Accuracy= 0.125\n",
            "***************\n",
            "Iter 4800, Loss= 154008.625, Training Accuracy= 0.062\n",
            "***************\n",
            "Iter 5120, Loss= 109062.359, Training Accuracy= 0.062\n",
            "***************\n",
            "Iter 5440, Loss= 134496.000, Training Accuracy= 0.125\n",
            "***************\n",
            "Iter 5760, Loss= 142905.156, Training Accuracy= 0.000\n",
            "***************\n",
            "Iter 6080, Loss= 128972.188, Training Accuracy= 0.000\n",
            "***************\n",
            "Iter 6400, Loss= 122253.344, Training Accuracy= 0.188\n",
            "***************\n",
            "Iter 6720, Loss= 151907.391, Training Accuracy= 0.062\n",
            "***************\n",
            "Iter 7040, Loss= 120717.703, Training Accuracy= 0.062\n",
            "***************\n",
            "Iter 7360, Loss= 141301.750, Training Accuracy= 0.125\n",
            "***************\n",
            "Iter 7680, Loss= 124108.938, Training Accuracy= 0.000\n",
            "***************\n",
            "Iter 8000, Loss= 142518.281, Training Accuracy= 0.125\n",
            "***************\n",
            "Iter 8320, Loss= 174234.656, Training Accuracy= 0.000\n",
            "***************\n",
            "Iter 8640, Loss= 141494.156, Training Accuracy= 0.062\n",
            "***************\n",
            "Iter 8960, Loss= 133126.438, Training Accuracy= 0.188\n",
            "***************\n",
            "Iter 9280, Loss= 104282.328, Training Accuracy= 0.062\n",
            "***************\n",
            "Iter 9600, Loss= 141494.938, Training Accuracy= 0.062\n",
            "***************\n",
            "Iter 9920, Loss= 131938.250, Training Accuracy= 0.125\n",
            "***************\n",
            "Iter 10240, Loss= 118547.203, Training Accuracy= 0.062\n",
            "***************\n",
            "Iter 10560, Loss= 126592.766, Training Accuracy= 0.062\n",
            "***************\n",
            "Iter 10880, Loss= 136585.656, Training Accuracy= 0.125\n",
            "***************\n",
            "Iter 11200, Loss= 128908.438, Training Accuracy= 0.000\n",
            "***************\n",
            "Iter 11520, Loss= 105311.719, Training Accuracy= 0.062\n",
            "***************\n",
            "Iter 11840, Loss= 138894.594, Training Accuracy= 0.062\n",
            "***************\n",
            "Iter 12160, Loss= 121485.977, Training Accuracy= 0.000\n",
            "***************\n",
            "Iter 12480, Loss= 101119.609, Training Accuracy= 0.125\n",
            "***************\n",
            "Iter 12800, Loss= 118800.922, Training Accuracy= 0.000\n",
            "***************\n",
            "Iter 13120, Loss= 105912.727, Training Accuracy= 0.125\n",
            "***************\n",
            "Iter 13440, Loss= 87837.516, Training Accuracy= 0.125\n",
            "***************\n",
            "Iter 13760, Loss= 104044.469, Training Accuracy= 0.062\n",
            "***************\n",
            "Iter 14080, Loss= 100891.953, Training Accuracy= 0.125\n",
            "***************\n",
            "Iter 14400, Loss= 114686.805, Training Accuracy= 0.125\n",
            "***************\n",
            "Iter 14720, Loss= 132140.000, Training Accuracy= 0.062\n",
            "***************\n",
            "Iter 15040, Loss= 110965.406, Training Accuracy= 0.062\n",
            "***************\n",
            "Iter 15360, Loss= 119739.648, Training Accuracy= 0.000\n",
            "***************\n",
            "Iter 15680, Loss= 116088.812, Training Accuracy= 0.125\n",
            "***************\n",
            "Iter 16000, Loss= 93119.273, Training Accuracy= 0.188\n",
            "***************\n",
            "Iter 16320, Loss= 93554.586, Training Accuracy= 0.250\n",
            "***************\n",
            "Iter 16640, Loss= 111592.531, Training Accuracy= 0.062\n",
            "***************\n",
            "Iter 16960, Loss= 102810.250, Training Accuracy= 0.062\n",
            "***************\n",
            "Iter 17280, Loss= 89320.234, Training Accuracy= 0.125\n",
            "***************\n",
            "Iter 17600, Loss= 119207.297, Training Accuracy= 0.062\n",
            "***************\n",
            "Iter 17920, Loss= 98235.586, Training Accuracy= 0.062\n",
            "***************\n",
            "Iter 18240, Loss= 94318.234, Training Accuracy= 0.062\n",
            "***************\n",
            "Iter 18560, Loss= 77259.156, Training Accuracy= 0.188\n",
            "***************\n",
            "Iter 18880, Loss= 95202.859, Training Accuracy= 0.125\n",
            "***************\n",
            "Iter 19200, Loss= 79607.875, Training Accuracy= 0.188\n",
            "***************\n",
            "Iter 19520, Loss= 87150.211, Training Accuracy= 0.125\n",
            "***************\n",
            "Iter 19840, Loss= 93047.609, Training Accuracy= 0.125\n",
            "***************\n",
            "Iter 20160, Loss= 106603.789, Training Accuracy= 0.000\n",
            "***************\n",
            "Iter 20480, Loss= 106962.500, Training Accuracy= 0.062\n",
            "***************\n",
            "Iter 20800, Loss= 110767.695, Training Accuracy= 0.062\n",
            "***************\n",
            "Iter 21120, Loss= 96436.047, Training Accuracy= 0.062\n",
            "***************\n",
            "Iter 21440, Loss= 97833.312, Training Accuracy= 0.188\n",
            "***************\n",
            "Iter 21760, Loss= 121132.203, Training Accuracy= 0.000\n",
            "***************\n",
            "Iter 22080, Loss= 114104.227, Training Accuracy= 0.000\n",
            "***************\n",
            "Iter 22400, Loss= 91905.148, Training Accuracy= 0.000\n",
            "***************\n",
            "Iter 22720, Loss= 95340.711, Training Accuracy= 0.062\n",
            "***************\n",
            "Iter 23040, Loss= 74810.586, Training Accuracy= 0.062\n",
            "***************\n",
            "Iter 23360, Loss= 120556.109, Training Accuracy= 0.000\n",
            "***************\n",
            "Iter 23680, Loss= 91800.109, Training Accuracy= 0.062\n",
            "***************\n",
            "Iter 24000, Loss= 84765.797, Training Accuracy= 0.188\n",
            "***************\n",
            "Iter 24320, Loss= 95830.672, Training Accuracy= 0.062\n",
            "***************\n",
            "Iter 24640, Loss= 84711.570, Training Accuracy= 0.062\n",
            "***************\n",
            "Iter 24960, Loss= 91921.680, Training Accuracy= 0.062\n",
            "***************\n",
            "Iter 25280, Loss= 61246.625, Training Accuracy= 0.188\n",
            "***************\n",
            "Iter 25600, Loss= 78857.375, Training Accuracy= 0.125\n",
            "***************\n",
            "Iter 25920, Loss= 82561.219, Training Accuracy= 0.062\n",
            "***************\n",
            "Iter 26240, Loss= 90432.500, Training Accuracy= 0.125\n",
            "***************\n",
            "Iter 26560, Loss= 113370.266, Training Accuracy= 0.000\n",
            "***************\n",
            "Iter 26880, Loss= 100569.297, Training Accuracy= 0.062\n",
            "***************\n",
            "Iter 27200, Loss= 62497.352, Training Accuracy= 0.188\n",
            "***************\n",
            "Iter 27520, Loss= 101002.664, Training Accuracy= 0.062\n",
            "***************\n",
            "Iter 27840, Loss= 83177.336, Training Accuracy= 0.000\n",
            "***************\n",
            "Iter 28160, Loss= 64527.898, Training Accuracy= 0.062\n",
            "***************\n",
            "Iter 28480, Loss= 93341.523, Training Accuracy= 0.125\n",
            "***************\n",
            "Iter 28800, Loss= 100089.320, Training Accuracy= 0.062\n",
            "***************\n",
            "Iter 29120, Loss= 75254.625, Training Accuracy= 0.000\n",
            "***************\n",
            "Iter 29440, Loss= 85048.094, Training Accuracy= 0.062\n",
            "***************\n",
            "Iter 29760, Loss= 71692.320, Training Accuracy= 0.125\n",
            "***************\n",
            "Iter 30080, Loss= 91116.438, Training Accuracy= 0.125\n",
            "***************\n",
            "Iter 30400, Loss= 79650.758, Training Accuracy= 0.125\n",
            "***************\n",
            "Iter 30720, Loss= 76233.852, Training Accuracy= 0.125\n",
            "***************\n",
            "Iter 31040, Loss= 77311.891, Training Accuracy= 0.000\n",
            "***************\n",
            "Iter 31360, Loss= 52358.090, Training Accuracy= 0.125\n",
            "***************\n",
            "Iter 31680, Loss= 108207.297, Training Accuracy= 0.000\n",
            "***************\n",
            "Iter 32000, Loss= 60096.219, Training Accuracy= 0.062\n",
            "***************\n",
            "Iter 32320, Loss= 55921.547, Training Accuracy= 0.125\n",
            "***************\n",
            "Iter 32640, Loss= 70266.539, Training Accuracy= 0.000\n",
            "***************\n",
            "Iter 32960, Loss= 86734.469, Training Accuracy= 0.062\n",
            "***************\n",
            "Iter 33280, Loss= 53605.383, Training Accuracy= 0.062\n",
            "***************\n",
            "Iter 33600, Loss= 78390.039, Training Accuracy= 0.062\n",
            "***************\n",
            "Iter 33920, Loss= 46502.898, Training Accuracy= 0.188\n",
            "***************\n",
            "Iter 34240, Loss= 63647.074, Training Accuracy= 0.125\n",
            "***************\n",
            "Iter 34560, Loss= 71729.711, Training Accuracy= 0.062\n",
            "***************\n",
            "Iter 34880, Loss= 71999.680, Training Accuracy= 0.188\n",
            "***************\n",
            "Iter 35200, Loss= 46379.512, Training Accuracy= 0.188\n",
            "***************\n",
            "Iter 35520, Loss= 62131.230, Training Accuracy= 0.062\n",
            "***************\n",
            "Iter 35840, Loss= 78734.141, Training Accuracy= 0.125\n",
            "***************\n",
            "Iter 36160, Loss= 69156.938, Training Accuracy= 0.000\n",
            "***************\n",
            "Iter 36480, Loss= 84399.562, Training Accuracy= 0.000\n",
            "***************\n",
            "Iter 36800, Loss= 56601.270, Training Accuracy= 0.062\n",
            "***************\n",
            "Iter 37120, Loss= 54489.867, Training Accuracy= 0.000\n",
            "***************\n",
            "Iter 37440, Loss= 65090.445, Training Accuracy= 0.125\n",
            "***************\n",
            "Iter 37760, Loss= 63997.633, Training Accuracy= 0.125\n",
            "***************\n",
            "Iter 38080, Loss= 68700.977, Training Accuracy= 0.125\n",
            "***************\n",
            "Iter 38400, Loss= 58202.164, Training Accuracy= 0.125\n",
            "***************\n",
            "Iter 38720, Loss= 78743.734, Training Accuracy= 0.062\n",
            "***************\n",
            "Iter 39040, Loss= 59683.461, Training Accuracy= 0.062\n",
            "***************\n",
            "Iter 39360, Loss= 75543.336, Training Accuracy= 0.062\n",
            "***************\n",
            "Iter 39680, Loss= 74981.531, Training Accuracy= 0.062\n",
            "Testing Accuracy: 0.11935484\n"
          ]
        }
      ]
    },
    {
      "cell_type": "code",
      "source": [
        "plt.plot(steps_t, loss_t, 'r--')\n",
        "plt.xlabel(\"Number of Iterations\")\n",
        "plt.ylabel(\"Loss\")\n",
        "plt.show()"
      ],
      "metadata": {
        "id": "BG1-rVkQQG0-",
        "colab": {
          "base_uri": "https://localhost:8080/",
          "height": 279
        },
        "outputId": "9566054a-3787-4466-f3e1-d8ac35e4482f"
      },
      "execution_count": 31,
      "outputs": [
        {
          "output_type": "display_data",
          "data": {
            "text/plain": [
              "<Figure size 432x288 with 1 Axes>"
            ],
            "image/png": "[encoded data removed]"
          },
          "metadata": {
            "needs_background": "light"
          }
        }
      ]
    },
    {
      "cell_type": "code",
      "source": [
        "plt.plot(steps_t, acc_t, 'bs')\n",
        "plt.title(\"Train Accuracy\")\n",
        "plt.xlabel(\"Number of Iterations\")\n",
        "plt.ylabel(\"Train Accuracy\")\n",
        "plt.show()"
      ],
      "metadata": {
        "colab": {
          "base_uri": "https://localhost:8080/",
          "height": 295
        },
        "id": "u_sEg6Qd29QV",
        "outputId": "d9fa63e4-b802-4b1c-fce4-5abb347d1bfc"
      },
      "execution_count": 32,
      "outputs": [
        {
          "output_type": "display_data",
          "data": {
            "text/plain": [
              "<Figure size 432x288 with 1 Axes>"
            ],
            "image/png": "[encoded data removed]"
          },
          "metadata": {
            "needs_background": "light"
          }
        }
      ]
    },
    {
      "cell_type": "code",
      "source": [
        "correct = (Y_test_cls == cls_pred)\n",
        "\n",
        "correct_sum = correct.sum()\n",
        "num_test = X_test.shape[0]\n",
        "\n",
        "acc = float(correct_sum) / num_test\n",
        "msg = \"Accuracy on Test - Set: {0:.1} ({1} / {2})\"\n",
        "print(msg.format(acc, correct_sum, num_test))\n",
        "\n"
      ],
      "metadata": {
        "colab": {
          "base_uri": "https://localhost:8080/"
        },
        "id": "lEsRhMkV3hyq",
        "outputId": "217b991b-86ff-40ff-a94e-578ac7b146c5"
      },
      "execution_count": 33,
      "outputs": [
        {
          "output_type": "stream",
          "name": "stdout",
          "text": [
            "Accuracy on Test - Set: 0.1 (37 / 310)\n"
          ]
        }
      ]
    },
    {
      "cell_type": "code",
      "source": [
        "def plot_example_errors(cls_pred, correct):\n",
        "\n",
        "  incorrect = (correct == False)\n",
        "  images = new_test_X[incorrect]\n",
        "  cls_pred = cls_pred[incorrect]\n",
        "  cls_true = Y_test_cls[incorrect]\n",
        "\n",
        "  plot_images(images = images[0:9],\n",
        "              cls_true=cls_true[0:9],\n",
        "              cls_pred = cls_pred[0:9])\n",
        "  \n"
      ],
      "metadata": {
        "id": "PqKuZROQ4exP"
      },
      "execution_count": 34,
      "outputs": []
    },
    {
      "cell_type": "code",
      "source": [
        "plot_example_errors(cls_pred=cls_pred, correct=correct)"
      ],
      "metadata": {
        "colab": {
          "base_uri": "https://localhost:8080/",
          "height": 262
        },
        "id": "4-63tBph5UPS",
        "outputId": "4f469e45-f0ec-4f57-ef98-981909154fd4"
      },
      "execution_count": 35,
      "outputs": [
        {
          "output_type": "display_data",
          "data": {
            "text/plain": [
              "<Figure size 432x288 with 9 Axes>"
            ],
            "image/png": "[encoded data removed]"
          },
          "metadata": {}
        }
      ]
    },
    {
      "cell_type": "code",
      "source": [
        "def plot_confusion_matriz(cls_pred):\n",
        "\n",
        "  cls_true = Y_test_cls\n",
        "  cm = confusion_matrix(y_true=cls_true,\n",
        "                        y_pred=cls_pred)\n",
        "  print(cm)\n",
        "  plt.matshow(cm)\n",
        "  plt.colorbar()\n",
        "  tick_marks = np.arange(num_classes)\n",
        "  plt.xticks(tick_marks, range(num_classes))\n",
        "  plt.yticks(tick_marks, range(num_classes))\n",
        "  plt.xlabel(\"Predicted \")\n",
        "  plt.ylabel(\"True\")\n",
        "  plt.show()\n"
      ],
      "metadata": {
        "id": "qMsdvO9R5esa"
      },
      "execution_count": 36,
      "outputs": []
    },
    {
      "cell_type": "code",
      "source": [
        "plot_confusion_matriz(cls_pred = cls_pred)\n"
      ],
      "metadata": {
        "colab": {
          "base_uri": "https://localhost:8080/",
          "height": 434
        },
        "id": "fRfT9VJN6dAn",
        "outputId": "b32150f5-b057-427d-dcdf-881da3b43319"
      },
      "execution_count": 37,
      "outputs": [
        {
          "output_type": "stream",
          "name": "stdout",
          "text": [
            "[[ 0  0 21  0  1  0  0  0  1  4]\n",
            " [ 0  0 29  0  0  0  0  0  3  0]\n",
            " [ 0  0 25  0  0  0  3  3 11  0]\n",
            " [ 0  0 17  0  0  0  0  4  7  0]\n",
            " [ 0  0 17  0  0  0  1  0  5  1]\n",
            " [ 0  0 17  0  0  0  0  3  5  3]\n",
            " [ 1  0 20  0  0  0  0  3  6  0]\n",
            " [ 0  0 21  0  0  0  0  2  3  4]\n",
            " [ 0  0 27  0  0  0  0  1  6  0]\n",
            " [ 0  0 21  0  0  0  3  3  4  4]]\n"
          ]
        },
        {
          "output_type": "display_data",
          "data": {
            "text/plain": [
              "<Figure size 288x288 with 2 Axes>"
            ],
            "image/png": "[encoded data removed]"
          },
          "metadata": {
            "needs_background": "light"
          }
        }
      ]
    },
    {
      "cell_type": "code",
      "source": [],
      "metadata": {
        "id": "4dc_eS2T6jQA"
      },
      "execution_count": null,
      "outputs": []
    }
  ]
}